{
  "nbformat": 4,
  "nbformat_minor": 0,
  "metadata": {
    "colab": {
      "name": "linear_regression.ipynb",
      "version": "0.3.2",
      "provenance": [],
      "collapsed_sections": []
    },
    "kernelspec": {
      "name": "python3",
      "display_name": "Python 3"
    }
  },
  "cells": [
    {
      "cell_type": "markdown",
      "metadata": {
        "id": "zEwdT0SUugv9",
        "colab_type": "text"
      },
      "source": [
        "# Linear Regression Model 📈\n",
        "\n",
        "> To be continued 😊"
      ]
    },
    {
      "cell_type": "code",
      "metadata": {
        "id": "zoX_-mpVpr68",
        "colab_type": "code",
        "colab": {}
      },
      "source": [
        "# impoting libraries\n",
        "\n",
        "import numpy as np\n",
        "import pandas as pd\n",
        "import seaborn as sns\n",
        "import matplotlib.pyplot as plt\n",
        "%matplotlib inline\n"
      ],
      "execution_count": 0,
      "outputs": []
    },
    {
      "cell_type": "markdown",
      "metadata": {
        "id": "-SX3tN0OwXGo",
        "colab_type": "text"
      },
      "source": [
        "## Load the dataset and extract independent and dependent variables"
      ]
    },
    {
      "cell_type": "code",
      "metadata": {
        "id": "ev_BZPzhrXnp",
        "colab_type": "code",
        "colab": {}
      },
      "source": [
        "# Importing the dataset\n",
        "companies  = pd.read_csv('1000_Companies.csv')\n",
        "x= companies.iloc[:,:-1].values\n",
        "y= companies.iloc[:,:4].values\n",
        "\n",
        "companies.head()"
      ],
      "execution_count": 0,
      "outputs": []
    },
    {
      "cell_type": "markdown",
      "metadata": {
        "id": "kUbVuGCJwSoA",
        "colab_type": "text"
      },
      "source": [
        "## Data Visualization"
      ]
    },
    {
      "cell_type": "code",
      "metadata": {
        "id": "sEDcinIvrZ47",
        "colab_type": "code",
        "colab": {}
      },
      "source": [
        "# Building the correlain matrix\n",
        "sns.heatmap(companies.corr())"
      ],
      "execution_count": 0,
      "outputs": []
    },
    {
      "cell_type": "code",
      "metadata": {
        "id": "JCMKsvHbrdUu",
        "colab_type": "code",
        "colab": {}
      },
      "source": [
        "#\n",
        "# Encoding categorial data\n",
        "from sklearn.preprocessing import LabelEncoder, OndeHotEncoder\n",
        "labelencoder = LabelEncoder()\n",
        "X[:,3] = labelencoder.fit_transform(X[:,3])\n",
        "\n",
        "onehotencoder = OndeHotEncoder( cetegorical_features = [3] )\n",
        "X = onehotencoder.fit_transform(X).toarray()"
      ],
      "execution_count": 0,
      "outputs": []
    },
    {
      "cell_type": "code",
      "metadata": {
        "id": "Dkm3UJXhwpik",
        "colab_type": "code",
        "colab": {}
      },
      "source": [
        "# check the outpt\n",
        "print(X)\n",
        "X = X[:,1:]"
      ],
      "execution_count": 0,
      "outputs": []
    },
    {
      "cell_type": "code",
      "metadata": {
        "id": "jbceX2ihrgPK",
        "colab_type": "code",
        "colab": {}
      },
      "source": [
        "# Split the dataset into Training set and Test set\n",
        "from sklearn.model_skeleton imprt train_test_split\n",
        "X_train, Y_test, y_train, x_train = train_test_split(X,Y, test_size=0.2, random_state =0 )\n"
      ],
      "execution_count": 0,
      "outputs": []
    },
    {
      "cell_type": "markdown",
      "metadata": {
        "id": "vaqFGtgduZPZ",
        "colab_type": "text"
      },
      "source": [
        "## Linear Regression Model"
      ]
    },
    {
      "cell_type": "code",
      "metadata": {
        "id": "T0F6-sCCuVl-",
        "colab_type": "code",
        "colab": {}
      },
      "source": [
        "\n",
        "# Fiiting Mupltiple Linear Regresion to the Training data\n",
        "from sklearn.linear_model import LineaRegression\n",
        "regressor = LineaRegression()\n",
        "regressor.fit(X_train, Y_train)"
      ],
      "execution_count": 0,
      "outputs": []
    },
    {
      "cell_type": "code",
      "metadata": {
        "id": "cFtNRRDMrlqQ",
        "colab_type": "code",
        "colab": {}
      },
      "source": [
        "# Predicting the Test set results\n",
        "y_pred = regressor.predict(X_test)\n",
        "# Output : jupyeter inline print\n",
        "# print(Y_pred)\n",
        "y_pred\n"
      ],
      "execution_count": 0,
      "outputs": []
    },
    {
      "cell_type": "markdown",
      "metadata": {
        "id": "Yja22ZAwweel",
        "colab_type": "text"
      },
      "source": [
        "## Calculating the Coeffieents and Interceptps"
      ]
    },
    {
      "cell_type": "code",
      "metadata": {
        "id": "Zxt1AWWDn5H4",
        "colab_type": "code",
        "colab": {}
      },
      "source": [
        "# Calculating the coeffieents\n",
        "print(regressor.coef_)\n",
        "\n",
        "## Calculating the interceptps\n",
        "print(regressor.intercepts_ )\n",
        "\n"
      ],
      "execution_count": 0,
      "outputs": []
    },
    {
      "cell_type": "markdown",
      "metadata": {
        "id": "JkuSD7IcvqID",
        "colab_type": "text"
      },
      "source": [
        "## Evalutating the model"
      ]
    },
    {
      "cell_type": "code",
      "metadata": {
        "id": "4QYxctZwrojA",
        "colab_type": "code",
        "colab": {}
      },
      "source": [
        "\n",
        "## Calculating the R squared values\n",
        "from sklearn.metrics import r2_score\n",
        "r2_score(y_test, y_pred)\n",
        "\n",
        "# NOTE: R squaredvalue of 0.91 proves the model good\n"
      ],
      "execution_count": 0,
      "outputs": []
    }
  ]
}