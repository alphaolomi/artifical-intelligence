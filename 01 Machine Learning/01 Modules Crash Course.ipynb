{
 "nbformat": 4,
 "nbformat_minor": 0,
 "metadata": {
  "colab": {
   "name": "SciKit-Learn: Modules Crash Course.ipynb",
   "version": "0.3.2",
   "provenance": [],
   "collapsed_sections": []
  },
  "kernelspec": {
   "name": "python3",
   "language": "python",
   "display_name": "Python 3"
  },
  "pycharm": {
   "stem_cell": {
    "cell_type": "raw",
    "source": [],
    "metadata": {
     "collapsed": false
    }
   }
  }
 },
 "cells": [
  {
   "cell_type": "markdown",
   "metadata": {
    "id": "sSfkTGgJVmDG",
    "colab_type": "text"
   },
   "source": [
    "# NumPy Crash Course\n",
    "\n",
    "NumPy provides the foundation data structures and operations for SciPy. These are arrays (ndarrays) that are efficient to define and manipulate."
   ]
  },
  {
   "cell_type": "markdown",
   "metadata": {
    "id": "6rMuIgQ0azQg",
    "colab_type": "text"
   },
   "source": [
    "### Create Array"
   ]
  },
  {
   "cell_type": "code",
   "metadata": {
    "id": "gtCINIx9Vis1",
    "colab_type": "code",
    "outputId": "528a5c5c-80ea-4e2b-ddf2-0aa1774d77e2",
    "executionInfo": {
     "status": "ok",
     "timestamp": 1566205388877,
     "user_tz": -180,
     "elapsed": 674,
     "user": {
      "displayName": "George Millanzi",
      "photoUrl": "",
      "userId": "17481489292803674889"
     }
    },
    "colab": {
     "base_uri": "https://localhost:8080/",
     "height": 55
    },
    "pycharm": {
     "is_executing": false
    }
   },
   "source": [
    "import numpy\n",
    "\n",
    "mylist = [1, 2, 3]\n",
    "myarray = numpy.array(mylist)\n",
    "another_array = numpy.array([1.2, 3.5, 5.1])\n",
    "\n",
    "print(myarray)\n",
    "print(myarray.shape)"
   ],
   "execution_count": 1,
   "outputs": [
    {
     "name": "stdout",
     "text": [
      "[1 2 3]\n",
      "(3,)\n"
     ],
     "output_type": "stream"
    }
   ]
  },
  {
   "cell_type": "markdown",
   "metadata": {
    "id": "GRcKIYg4V00m",
    "colab_type": "text"
   },
   "source": [
    "### Access Data\n",
    "Array notation and ranges can be used to efficiently access data in a NumPy array."
   ]
  },
  {
   "cell_type": "code",
   "metadata": {
    "id": "FYE4sZcFV4gI",
    "colab_type": "code",
    "outputId": "82fa5dc0-5a27-4ce6-88ac-ec5cb7d3d41b",
    "executionInfo": {
     "status": "ok",
     "timestamp": 1565874077619,
     "user_tz": -180,
     "elapsed": 937,
     "user": {
      "displayName": "Alpha Olomi",
      "photoUrl": "https://lh3.googleusercontent.com/-tresGQ2a0QA/AAAAAAAAAAI/AAAAAAAAD0Q/i1OfW3XH95Y/s64/photo.jpg",
      "userId": "17919147979722078729"
     }
    },
    "colab": {
     "base_uri": "https://localhost:8080/",
     "height": 136
    }
   },
   "source": [
    "mylist = [[1, 2, 3], [3, 4, 5]]\n",
    "myarray = numpy.array(mylist)\n",
    "\n",
    "print(myarray)\n",
    "print(\"Array Shape:\")\n",
    "print(myarray.shape)\n",
    "print(\"First row: %s\" % myarray[0])\n",
    "print(\"Last row: %s\" % myarray[-1])\n",
    "print(\"Specific row and col: %s\" % myarray[0, 2])\n",
    "print(\"Whole col: %s\" % myarray[:, 2])"
   ],
   "execution_count": 0,
   "outputs": [
    {
     "output_type": "stream",
     "text": [
      "[[1 2 3]\n",
      " [3 4 5]]\n",
      "(2, 3)\n",
      "First row: [1 2 3]\n",
      "Last row: [3 4 5]\n",
      "Specific row and col: 3\n",
      "Whole col: [3 5]\n"
     ],
     "name": "stdout"
    }
   ]
  },
  {
   "cell_type": "markdown",
   "metadata": {
    "id": "va6SbYnxV--6",
    "colab_type": "text"
   },
   "source": [
    "### Arithmetic\n",
    "NumPy arrays can be used directly in arithmetic"
   ]
  },
  {
   "cell_type": "code",
   "metadata": {
    "id": "x3vHM4uFAb2b",
    "colab_type": "code",
    "colab": {
     "base_uri": "https://localhost:8080/",
     "height": 52
    },
    "outputId": "52a2d972-d2d5-41b4-fb9f-950463d6ed6c",
    "executionInfo": {
     "status": "ok",
     "timestamp": 1566207120334,
     "user_tz": -180,
     "elapsed": 1013,
     "user": {
      "displayName": "Nabby Nash",
      "photoUrl": "https://lh4.googleusercontent.com/-yWvOrrchEh8/AAAAAAAAAAI/AAAAAAAAAIM/i-RUjj1RlCA/s64/photo.jpg",
      "userId": "04432286053573793757"
     }
    },
    "pycharm": {
     "is_executing": false
    }
   },
   "source": [
    "# arithmetic\n",
    "import numpy\n",
    "myarray1 = numpy.array([2, 2, 2])\n",
    "myarray2 = numpy.array([3, 3, 3])\n",
    "print(\"Addition: %s\" % (myarray1 + myarray2))\n",
    "print(\"Multiplication: %s\" % (myarray1 * myarray2))"
   ],
   "execution_count": 2,
   "outputs": [
    {
     "name": "stdout",
     "text": [
      "Addition: [5 5 5]\n",
      "Multiplication: [6 6 6]\n"
     ],
     "output_type": "stream"
    }
   ]
  },
  {
   "cell_type": "markdown",
   "metadata": {
    "id": "KyeDox1EWEW0",
    "colab_type": "text"
   },
   "source": [
    "##  Matplotlib Crash Course\n",
    "Matplotlib can be used for creating plots and charts.\n",
    "\n",
    "The library is generally used as follows:\n",
    "\n",
    "Call a plotting function with some data (e.g. plot()).\n",
    "Call many functions to setup the properties of the plot (e.g. labels and colors).\n",
    "Make the plot visible (e.g. show()).\n",
    "Line Plot\n",
    "The example below creates a simple line plot from one-dimensional data."
   ]
  },
  {
   "cell_type": "markdown",
   "metadata": {
    "id": "OqZPO4uqWJRE",
    "colab_type": "code",
    "outputId": "4b4742cf-e154-4b4f-b089-98755b116985",
    "executionInfo": {
     "status": "ok",
     "timestamp": 1565874088830,
     "user_tz": -180,
     "elapsed": 1162,
     "user": {
      "displayName": "Alpha Olomi",
      "photoUrl": "https://lh3.googleusercontent.com/-tresGQ2a0QA/AAAAAAAAAAI/AAAAAAAAD0Q/i1OfW3XH95Y/s64/photo.jpg",
      "userId": "17919147979722078729"
     }
    },
    "colab": {
     "base_uri": "https://localhost:8080/",
     "height": 283
    },
    "pycharm": {
     "is_executing": false,
     "name": "#%% md\n"
    }
   },
   "source": [
    "## Basic line plot"
   ]
  },
  {
   "cell_type": "code",
   "source": [
    "import matplotlib.pyplot as plt\n",
    "import numpy\n",
    "myarray = numpy.array([1, 2, 3])\n",
    "plt.plot(myarray)\n",
    "plt.xlabel('some x axis')\n",
    "plt.ylabel('some y axis')\n",
    "plt.show()"
   ],
   "metadata": {
    "collapsed": false,
    "pycharm": {
     "name": "#%%\n"
    }
   },
   "execution_count": null,
   "outputs": []
  },
  {
   "cell_type": "markdown",
   "metadata": {
    "id": "pWDfRaDQWPYY",
    "colab_type": "text"
   },
   "source": [
    "## Basic scatter plot\n",
    "\n",
    "Below is a simple example of creating a scatter plot from two-dimensional data."
   ]
  },
  {
   "cell_type": "code",
   "metadata": {
    "id": "I827-IkGW0EX",
    "colab_type": "code",
    "outputId": "30db33db-e939-4bec-91d3-d276236a274a",
    "executionInfo": {
     "status": "ok",
     "timestamp": 1565874119836,
     "user_tz": -180,
     "elapsed": 925,
     "user": {
      "displayName": "Alpha Olomi",
      "photoUrl": "https://lh3.googleusercontent.com/-tresGQ2a0QA/AAAAAAAAAAI/AAAAAAAAD0Q/i1OfW3XH95Y/s64/photo.jpg",
      "userId": "17919147979722078729"
     }
    },
    "colab": {
     "base_uri": "https://localhost:8080/",
     "height": 283
    },
    "pycharm": {
     "is_executing": false
    }
   },
   "source": [
    "import matplotlib.pyplot as plt\n",
    "x = numpy.array([1, 2, 3, 4, 5])\n",
    "y = numpy.array([2, 4, 6, 8, 10])\n",
    "plt.scatter(x,y)\n",
    "plt.xlabel('some x axis')\n",
    "plt.ylabel('some y axis')\n",
    "plt.show()"
   ],
   "execution_count": 5,
   "outputs": [
    {
     "data": {
      "text/plain": "<Figure size 640x480 with 1 Axes>"
     },
     "metadata": {},
     "output_type": "display_data"
    }
   ]
  },
  {
   "cell_type": "markdown",
   "metadata": {
    "id": "IyPR1jGSBS7S",
    "colab_type": "text"
   },
   "source": [
    "## Basic 3D Lines"
   ]
  },
  {
   "cell_type": "code",
   "metadata": {
    "id": "u3t840IbBQ7p",
    "colab_type": "code",
    "outputId": "258bc0b2-43af-413d-e644-70b8cfc97ad1",
    "executionInfo": {
     "status": "ok",
     "timestamp": 1566203836540,
     "user_tz": -180,
     "elapsed": 1540,
     "user": {
      "displayName": "Alpha Olomi",
      "photoUrl": "https://lh3.googleusercontent.com/-tresGQ2a0QA/AAAAAAAAAAI/AAAAAAAAD0Q/i1OfW3XH95Y/s64/photo.jpg",
      "userId": "17919147979722078729"
     }
    },
    "colab": {
     "base_uri": "https://localhost:8080/",
     "height": 248
    }
   },
   "source": [
    "import matplotlib as mpl\n",
    "import numpy as np\n",
    "import matplotlib.pyplot as plt\n",
    "\n",
    "mpl.rcParams['legend.fontsize'] = 10\n",
    "\n",
    "fig = plt.figure()\n",
    "ax = fig.gca(projection='3d')\n",
    "theta = np.linspace(-4 * np.pi, 4 * np.pi, 100)\n",
    "z = np.linspace(-2, 2, 100)\n",
    "r = z**2 + 1\n",
    "x = r * np.sin(theta)\n",
    "y = r * np.cos(theta)\n",
    "ax.plot(x, y, z, label='parametric curve')\n",
    "ax.legend()\n",
    "\n",
    "plt.show()\n"
   ],
   "execution_count": 0,
   "outputs": [
    {
     "output_type": "display_data",
     "data": {
      "image/png": "[encoded data removed]",
      "text/plain": [
       "<Figure size 432x288 with 1 Axes>"
      ]
     },
     "metadata": {
      "tags": []
     }
    }
   ]
  },
  {
   "cell_type": "markdown",
   "metadata": {
    "id": "BAAWpftzWVwl",
    "colab_type": "text"
   },
   "source": [
    "# Pandas Crash Course\n",
    "Pandas provides data structures and functionality to quickly manipulate and analyze data. The key to understanding Pandas for machine learning is understanding the Series and DataFrame data structures.\n",
    "\n",
    "## Series\n",
    "A series is a one-dimensional array where the rows and columns can be labeled."
   ]
  },
  {
   "cell_type": "code",
   "metadata": {
    "id": "mkWyo9yqWavt",
    "colab_type": "code",
    "outputId": "6d9d9bfc-c40c-49ca-d3c5-8fc5fae80f41",
    "executionInfo": {
     "status": "ok",
     "timestamp": 1565874140004,
     "user_tz": -180,
     "elapsed": 903,
     "user": {
      "displayName": "Alpha Olomi",
      "photoUrl": "https://lh3.googleusercontent.com/-tresGQ2a0QA/AAAAAAAAAAI/AAAAAAAAD0Q/i1OfW3XH95Y/s64/photo.jpg",
      "userId": "17919147979722078729"
     }
    },
    "colab": {
     "base_uri": "https://localhost:8080/",
     "height": 85
    }
   },
   "source": [
    "import pandas\n",
    "myarray = numpy.array([1, 2, 3])\n",
    "\n",
    "rownames = ['a', 'b', 'c']\n",
    "\n",
    "myseries = pandas.Series(myarray, index=rownames)\n",
    "\n",
    "print(myseries)"
   ],
   "execution_count": 0,
   "outputs": [
    {
     "output_type": "stream",
     "text": [
      "a    1\n",
      "b    2\n",
      "c    3\n",
      "dtype: int64\n"
     ],
     "name": "stdout"
    }
   ]
  },
  {
   "cell_type": "markdown",
   "metadata": {
    "id": "l79_tDBAW-7s",
    "colab_type": "text"
   },
   "source": [
    "## DataFrame\n",
    "A data frame is a multi-dimensional array where the rows and the columns can be labeled."
   ]
  },
  {
   "cell_type": "code",
   "metadata": {
    "id": "lrpi1y1rXDpW",
    "colab_type": "code",
    "outputId": "c1a5ac07-2035-4751-cd61-62bb7c9ccab6",
    "executionInfo": {
     "status": "ok",
     "timestamp": 1565874144046,
     "user_tz": -180,
     "elapsed": 891,
     "user": {
      "displayName": "Alpha Olomi",
      "photoUrl": "https://lh3.googleusercontent.com/-tresGQ2a0QA/AAAAAAAAAAI/AAAAAAAAD0Q/i1OfW3XH95Y/s64/photo.jpg",
      "userId": "17919147979722078729"
     }
    },
    "colab": {
     "base_uri": "https://localhost:8080/",
     "height": 68
    }
   },
   "source": [
    "import numpy\n",
    "import pandas\n",
    "myarray = numpy.array([[1, 2, 3], [4, 5, 6]])\n",
    "rownames = ['a', 'b']\n",
    "colnames = ['one', 'two', 'three']\n",
    "mydataframe = pandas.DataFrame(myarray, index=rownames, columns=colnames)\n",
    "print(mydataframe)\n"
   ],
   "execution_count": 0,
   "outputs": [
    {
     "output_type": "stream",
     "text": [
      "   one  two  three\n",
      "a    1    2      3\n",
      "b    4    5      6\n"
     ],
     "name": "stdout"
    }
   ]
  },
  {
   "cell_type": "markdown",
   "metadata": {
    "id": "Ax-wZ3eHXTQO",
    "colab_type": "text"
   },
   "source": [
    "Data can be index using column names."
   ]
  },
  {
   "cell_type": "code",
   "metadata": {
    "id": "0o_UZCllXWI-",
    "colab_type": "code",
    "outputId": "5cb8cc35-6b2b-4c19-fc8f-336527027639",
    "executionInfo": {
     "status": "ok",
     "timestamp": 1565874146986,
     "user_tz": -180,
     "elapsed": 912,
     "user": {
      "displayName": "Alpha Olomi",
      "photoUrl": "https://lh3.googleusercontent.com/-tresGQ2a0QA/AAAAAAAAAAI/AAAAAAAAD0Q/i1OfW3XH95Y/s64/photo.jpg",
      "userId": "17919147979722078729"
     }
    },
    "colab": {
     "base_uri": "https://localhost:8080/",
     "height": 119
    }
   },
   "source": [
    "print(\"one column: %s\" % mydataframe['one'])\n",
    "print(\"one column: %s\" % mydataframe.one)"
   ],
   "execution_count": 0,
   "outputs": [
    {
     "output_type": "stream",
     "text": [
      "one column: a    1\n",
      "b    4\n",
      "Name: one, dtype: int64\n",
      "one column: a    1\n",
      "b    4\n",
      "Name: one, dtype: int64\n"
     ],
     "name": "stdout"
    }
   ]
  },
  {
   "cell_type": "markdown",
   "metadata": {
    "id": "MCfh0SFlXLRd",
    "colab_type": "text"
   },
   "source": [
    "## Summary\n",
    "You have covered a lot of ground in this post. You discovered basic syntax and usage of Python and four key Python libraries used for machine learning:\n",
    "\n",
    "- NumPy\n",
    "- Matplotlib\n",
    "- Pandas\n"
   ]
  }
 ]
}