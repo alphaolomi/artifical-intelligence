{
 "nbformat": 4,
 "nbformat_minor": 0,
 "metadata": {
  "colab": {
   "name": "Scikit-Learn:Introduction to Scikit-Learn.ipynb",
   "version": "0.3.2",
   "provenance": [],
   "collapsed_sections": []
  },
  "kernelspec": {
   "name": "python3",
   "language": "python",
   "display_name": "Python 3"
  }
 },
 "cells": [
  {
   "cell_type": "markdown",
   "metadata": {
    "id": "i7UoVPQ_OEBX",
    "colab_type": "text"
   },
   "source": [
    "# Introduction to Scikit-Learn: A Python Machine Learning Library"
   ]
  },
  {
   "cell_type": "markdown",
   "metadata": {
    "id": "-1r5Hn5QOILl",
    "colab_type": "text"
   },
   "source": [
    "Where did it come from?\n",
    "Scikit-learn was initially developed by **David Cournapeau** as a Google summer of code project in 2007.\n",
    "\n",
    "Later **Matthieu Brucher** joined the project and started to use it as apart of his thesis work. In 2010 *INRIA* got involved and the first public release (v0.1 beta) was published in late January 2010.\n",
    "\n",
    "The project now has more than 30 active contributors and has had paid sponsorship from INRIA, Google, Tinyclues and the Python Software Foundation."
   ]
  },
  {
   "cell_type": "markdown",
   "metadata": {
    "id": "UaYdgd2TOKiN",
    "colab_type": "text"
   },
   "source": [
    "## What is scikit-learn?\n",
    "Scikit-learn provides a range of supervised and unsupervised learning algorithms via a consistent interface in Python.\n",
    "\n",
    "It is licensed under a permissive simplified BSD license and is distributed under many Linux distributions, encouraging academic and commercial use.\n",
    "\n",
    "The library is built upon the ***SciPy (Scientific Python)*** that must be installed before you can use scikit-learn. This stack that includes:\n",
    "\n",
    "- **NumPy**: Base n-dimensional array package\n",
    "- **SciPy**: Fundamental library for scientific computing\n",
    "- **Matplotlib**: Comprehensive 2D/3D plotting\n",
    "- **IPython**: Enhanced interactive console\n",
    "- **Sympy**: Symbolic mathematics\n",
    "- **Pandas**: Data structures and analysis\n",
    "\n",
    "Extensions or modules for SciPy care conventionally named SciKits. As such, the module provides learning algorithms and is named scikit-learn.\n",
    "\n",
    "The vision for the library is a level of robustness and support required for use in production systems. This means a deep focus on concerns such as easy of use, code quality, collaboration, documentation and performance.\n",
    "\n",
    "Although the interface is Python, c-libraries are leverage for performance such as numpy for arrays and matrix operations, LAPACK, LibSVM and the careful use of cython."
   ]
  },
  {
   "cell_type": "markdown",
   "metadata": {
    "id": "aTD4BPUIOwlG",
    "colab_type": "text"
   },
   "source": [
    "## What are the features?\n",
    "The library is focused on modeling data. It is not focused on loading, manipulating and summarizing data. For these features, refer to **NumPy** and **Pandas**."
   ]
  },
  {
   "cell_type": "markdown",
   "metadata": {
    "id": "slz1iY1VO4CZ",
    "colab_type": "text"
   },
   "source": [
    "## Some popular groups of models provided by scikit-learn include:\n",
    "\n",
    "- **Clustering:** for grouping unlabeled data such as KMeans.\n",
    "Cross Validation: for estimating the performance of supervised models on unseen data.\n",
    "\n",
    "- **Datasets**: for test datasets and for generating datasets with specific properties for investigating model behavior.\n",
    "\n",
    "- **Dimensionality Reduction** : for reducing the number of attributes in data for summarization, visualization and feature selection such as Principal component analysis.\n",
    "\n",
    "- **Ensemble method**s: for combining the predictions of multiple supervised models.\n",
    "\n",
    "- **Feature extraction**: for defining attributes in image and text data.\n",
    "Feature selection: for identifying meaningful attributes from which to create supervised models.\n",
    "\n",
    "- **Parameter Tuning**: for getting the most out of supervised models.\n",
    "\n",
    "- **Manifold Learning**: For summarizing and depicting complex multi-dimensional data.\n",
    "\n",
    "- **Supervised Models**: a vast array not limited to generalized linear models, discriminate analysis, naive bayes, lazy methods, neural networks, support vector machines and decision trees."
   ]
  },
  {
   "cell_type": "markdown",
   "metadata": {
    "id": "l0UC07BnPInv",
    "colab_type": "text"
   },
   "source": [
    "## Example: Classification and Regression Trees Model\n",
    "\n",
    "In this example, we use the Classification and Regression Trees (CART) decision tree algorithm to model the Iris flower dataset.\n",
    "\n",
    "This dataset is provided as an example dataset with the library and is loaded. The classifier is fit on the data and then predictions are made on the training data.\n",
    "\n",
    "Finally, the classification accuracy and a confusion matrix is printed."
   ]
  },
  {
   "cell_type": "code",
   "metadata": {
    "id": "Slz7liQJPOTA",
    "colab_type": "code",
    "outputId": "a3e0467e-2315-4a59-d3e2-333cfb97be72",
    "executionInfo": {
     "status": "ok",
     "timestamp": 1566205920456,
     "user_tz": -180,
     "elapsed": 2118,
     "user": {
      "displayName": "Nabby Nash",
      "photoUrl": "https://lh4.googleusercontent.com/-yWvOrrchEh8/AAAAAAAAAAI/AAAAAAAAAIM/i-RUjj1RlCA/s64/photo.jpg",
      "userId": "04432286053573793757"
     }
    },
    "colab": {
     "base_uri": "https://localhost:8080/",
     "height": 118
    },
    "pycharm": {
     "is_executing": false
    }
   },
   "source": [
    "# Sample Decision Tree Classifier\n",
    "from sklearn import datasets\n",
    "from sklearn import metrics\n",
    "from sklearn.tree import DecisionTreeClassifier\n",
    "\n",
    "# load the iris datasets\n",
    "dataset = datasets.load_iris()\n",
    "\n",
    "# \n",
    "model = DecisionTreeClassifier()\n",
    "\n",
    "# fit the data to the model\n",
    "model.fit(dataset.data, dataset.target)\n",
    "\n",
    "# print(model)"
   ],
   "execution_count": 1,
   "outputs": [
    {
     "data": {
      "text/plain": "DecisionTreeClassifier(class_weight=None, criterion='gini', max_depth=None,\n                       max_features=None, max_leaf_nodes=None,\n                       min_impurity_decrease=0.0, min_impurity_split=None,\n                       min_samples_leaf=1, min_samples_split=2,\n                       min_weight_fraction_leaf=0.0, presort=False,\n                       random_state=None, splitter='best')"
     },
     "metadata": {},
     "output_type": "execute_result",
     "execution_count": 1
    }
   ]
  },
  {
   "cell_type": "code",
   "metadata": {
    "id": "LoEjDvBGPUz2",
    "colab_type": "code",
    "outputId": "be3b6af4-d1a5-4d40-98aa-ed340505eaaa",
    "executionInfo": {
     "status": "ok",
     "timestamp": 1566205922879,
     "user_tz": -180,
     "elapsed": 917,
     "user": {
      "displayName": "Nabby Nash",
      "photoUrl": "https://lh4.googleusercontent.com/-yWvOrrchEh8/AAAAAAAAAAI/AAAAAAAAAIM/i-RUjj1RlCA/s64/photo.jpg",
      "userId": "04432286053573793757"
     }
    },
    "colab": {
     "base_uri": "https://localhost:8080/",
     "height": 269
    }
   },
   "source": [
    "# make predictions\n",
    "expected = dataset.target\n",
    "predicted = model.predict(dataset.data)\n",
    "\n",
    "# summarize the fit of the model\n",
    "print('Classification Report')\n",
    "print(metrics.classification_report(expected, predicted))\n",
    "\n",
    "print('Confunsion Matrix')\n",
    "print(metrics.confusion_matrix(expected, predicted))"
   ],
   "execution_count": 2,
   "outputs": [
    {
     "output_type": "stream",
     "text": [
      "Classification Report\n",
      "              precision    recall  f1-score   support\n",
      "\n",
      "           0       1.00      1.00      1.00        50\n",
      "           1       1.00      1.00      1.00        50\n",
      "           2       1.00      1.00      1.00        50\n",
      "\n",
      "    accuracy                           1.00       150\n",
      "   macro avg       1.00      1.00      1.00       150\n",
      "weighted avg       1.00      1.00      1.00       150\n",
      "\n",
      "Confunsion Matrix\n",
      "[[50  0  0]\n",
      " [ 0 50  0]\n",
      " [ 0  0 50]]\n"
     ],
     "name": "stdout"
    }
   ]
  },
  {
   "cell_type": "markdown",
   "metadata": {
    "id": "EDGOhvOrPa-e",
    "colab_type": "text"
   },
   "source": [
    "## Who is using it?\n",
    "The scikit-learn testimonials page lists\n",
    "- Inria\n",
    "- Mendeley\n",
    "- wise.io\n",
    "- Evernote\n",
    "- Telecom \n",
    "- ParisTech \n",
    "and AWeber as users of the library.\n",
    "\n",
    "If this is a small indication of companies that have presented on their use, then there are very likely tens to hundreds of larger organizations using the library.\n",
    "\n",
    "It has good test coverage and managed releases and is suitable for prototype and production projects alike."
   ]
  },
  {
   "cell_type": "markdown",
   "metadata": {
    "id": "aXKf9TU3PfNx",
    "colab_type": "text"
   },
   "source": [
    "## Resources\n",
    "If you are interested in learning more, checkout the [Scikit-Learn](http://scikit-learn.org/) homepage that includes documentation and related resources.\n",
    "\n",
    "You can get the code from the [github repository](https://github.com/scikit-learn), and releases are historically available on the Sourceforge project."
   ]
  },
  {
   "cell_type": "markdown",
   "metadata": {
    "id": "D9LgVOJ7UnFn",
    "colab_type": "text"
   },
   "source": [
    "Documentation\n",
    "I recommend starting out with the quick-start tutorial and flicking through the user guide and example gallery for algorithms that interest you.\n",
    "\n",
    "Ultimately, scikit-learn is a library and the API reference will be the best documentation for getting things done.\n",
    "\n",
    "- Quick Start Tutorial [http://scikit-learn.org/stable/tutorial/basic/tutorial.html](http://scikit-learn.org/stable/tutorial/basic/tutorial.html)\n",
    "\n",
    "- User Guide [http://scikit-learn.org/stable/user_guide.html](http://scikit-learn.org/stable/user_guide.html)\n",
    "\n",
    "- API Reference [http://scikit-learn.org/stable/modules/classes.html](http://scikit-learn.org/stable/modules/classes.html)\n",
    "\n",
    "- Example Gallery [http://scikit-learn.org/stable/auto_examples/index.html](http://scikit-learn.org/stable/auto_examples/index.html)"
   ]
  }
 ]
}