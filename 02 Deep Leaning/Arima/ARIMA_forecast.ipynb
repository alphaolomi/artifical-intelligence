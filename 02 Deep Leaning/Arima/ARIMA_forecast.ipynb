{
 "nbformat": 4,
 "nbformat_minor": 0,
 "metadata": {
  "colab": {
   "name": "ARIMA forecast.ipynb",
   "version": "0.3.2",
   "provenance": [],
   "include_colab_link": true
  },
  "kernelspec": {
   "name": "python3",
   "language": "python",
   "display_name": "Python 3"
  },
  "pycharm": {
   "stem_cell": {
    "cell_type": "raw",
    "source": [],
    "metadata": {
     "collapsed": false
    }
   }
  }
 },
 "cells": [
  {
   "cell_type": "markdown",
   "source": [
    "ARIMA Model"
   ],
   "metadata": {
    "collapsed": false
   }
  },
  {
   "cell_type": "markdown",
   "metadata": {
    "id": "view-in-github",
    "colab_type": "text"
   },
   "source": [
    "<a href=\"https://colab.research.google.com/github/alphaolomi/colab-basics/blob/master/ARIMA_forecast.ipynb\" target=\"_parent\"><img src=\"https://colab.research.google.com/assets/colab-badge.svg\" alt=\"Open In Colab\"/></a>"
   ]
  },
  {
   "cell_type": "markdown",
   "metadata": {
    "id": "i5yQYRwLL2-P",
    "colab_type": "text"
   },
   "source": [
    "# ARIMA model"
   ]
  },
  {
   "cell_type": "markdown",
   "metadata": {
    "id": "5wETsfgMKmv6",
    "colab_type": "text"
   },
   "source": [
    "## Importing"
   ]
  },
  {
   "cell_type": "code",
   "metadata": {
    "id": "s0CqCG48K73B",
    "colab_type": "code",
    "colab": {}
   },
   "source": [
    "# Rolling Forecast ARIMA Model\n",
    "from pandas import read_csv\n",
    "from pandas import datetime\n",
    "from matplotlib import pyplot\n",
    "from statsmodels.tsa.arima_model import ARIMA\n",
    "from sklearn.metrics import mean_squared_error\n"
   ],
   "execution_count": 0,
   "outputs": []
  },
  {
   "cell_type": "code",
   "metadata": {
    "id": "Ompx8X5WK9qF",
    "colab_type": "code",
    "colab": {}
   },
   "source": [
    "def parser(x):\n",
    "\treturn datetime.strptime('190'+x, '%Y-%m')\n"
   ],
   "execution_count": 0,
   "outputs": []
  },
  {
   "cell_type": "code",
   "metadata": {
    "id": "q_6YwVhoKyx5",
    "colab_type": "code",
    "colab": {
     "base_uri": "https://localhost:8080/",
     "height": 507
    },
    "outputId": "788ee7ad-607c-47ef-f959-992cac4fadcf"
   },
   "source": [
    "series = read_csv('/content/shampoo.csv', header=0, parse_dates=[0], index_col=0, squeeze=True, date_parser=parser)\n",
    "\n",
    "X = series.values\n",
    "\n",
    "size = int(len(X) * 0.66)\n",
    "train, test = X[0:size], X[size:len(X)]\n",
    "history = [x for x in train]\n",
    "predictions = list()\n",
    "\n",
    "for t in range(len(test)):\n",
    "\tmodel = ARIMA(history, order=(5,1,0))\n",
    "\tmodel_fit = model.fit(disp=0)\n",
    "\toutput = model_fit.forecast()\n",
    "\tyhat = output[0]\n",
    "\tpredictions.append(yhat)\n",
    "\tobs = test[t]\n",
    "\thistory.append(obs)\n",
    "\tprint('predicted=%f, expected=%f' % (yhat, obs))\n",
    "\n",
    "error = mean_squared_error(test, predictions)\n",
    "print('Test MSE: %.3f' % error)\n",
    "\n",
    "# plot\n",
    "pyplot.plot(test)\n",
    "pyplot.plot(predictions, color='red')\n",
    "pyplot.show()"
   ],
   "execution_count": 4,
   "outputs": [
    {
     "output_type": "stream",
     "text": [
      "predicted=349.117705, expected=342.300000\n",
      "predicted=306.512977, expected=339.700000\n",
      "predicted=387.376388, expected=440.400000\n",
      "predicted=348.154194, expected=315.900000\n",
      "predicted=386.308770, expected=439.300000\n",
      "predicted=356.081960, expected=401.300000\n",
      "predicted=446.379501, expected=437.400000\n",
      "predicted=394.737276, expected=575.500000\n",
      "predicted=434.915504, expected=407.600000\n",
      "predicted=507.923350, expected=682.000000\n",
      "predicted=435.482832, expected=475.300000\n",
      "predicted=652.743765, expected=581.300000\n",
      "predicted=546.343452, expected=646.900000\n",
      "Test MSE: 6958.330\n"
     ],
     "name": "stdout"
    },
    {
     "output_type": "display_data",
     "data": {
      "image/png": "[encoded data removed]",
      "text/plain": [
       "<Figure size 432x288 with 1 Axes>"
      ]
     },
     "metadata": {
      "tags": []
     }
    }
   ]
  }
 ]
}