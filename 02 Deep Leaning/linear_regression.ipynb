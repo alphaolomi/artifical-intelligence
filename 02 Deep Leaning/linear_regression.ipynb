{
 "nbformat": 4,
 "nbformat_minor": 0,
 "metadata": {
  "colab": {
   "name": "linear_regression.ipynb",
   "version": "0.3.2",
   "provenance": [],
   "collapsed_sections": []
  },
  "kernelspec": {
   "name": "python3",
   "language": "python",
   "display_name": "Python 3"
  },
  "pycharm": {
   "stem_cell": {
    "cell_type": "raw",
    "source": [],
    "metadata": {
     "collapsed": false
    }
   }
  }
 },
 "cells": [
  {
   "cell_type": "markdown",
   "metadata": {
    "id": "zEwdT0SUugv9",
    "colab_type": "text",
    "pycharm": {
     "name": "#%% md\n"
    }
   },
   "source": [
    "# Linear Regresion MOdel\n",
    "Date: 2019 09 12 \n",
    "\n",
    "Updated: 2020 01 12"
   ]
  },
  {
   "cell_type": "code",
   "metadata": {
    "id": "zoX_-mpVpr68",
    "colab_type": "code",
    "colab": {}
   },
   "source": [
    "# importing libraries\n",
    "\n",
    "import pandas as pd\n",
    "import seaborn as sns\n",
    "%matplotlib inline\n"
   ],
   "execution_count": 0,
   "outputs": []
  },
  {
   "cell_type": "markdown",
   "metadata": {
    "id": "-SX3tN0OwXGo",
    "colab_type": "text"
   },
   "source": [
    "## Load the dataset and extract independent and dependent variables"
   ]
  },
  {
   "cell_type": "code",
   "metadata": {
    "id": "ev_BZPzhrXnp",
    "colab_type": "code",
    "colab": {}
   },
   "source": [
    "# Importing the dataset\n",
    "companies  = pd.read_csv('1000_Companies.csv')\n",
    "x= companies.iloc[:,:-1].values\n",
    "y= companies.iloc[:,:4].values\n",
    "\n",
    "companies.head()"
   ],
   "execution_count": 0,
   "outputs": []
  },
  {
   "cell_type": "markdown",
   "metadata": {
    "id": "kUbVuGCJwSoA",
    "colab_type": "text"
   },
   "source": [
    "## Data Visualization"
   ]
  },
  {
   "cell_type": "code",
   "metadata": {
    "id": "sEDcinIvrZ47",
    "colab_type": "code",
    "colab": {}
   },
   "source": [
    "# Building the correlain matrix\n",
    "sns.heatmap(companies.corr())"
   ],
   "execution_count": 0,
   "outputs": []
  },
  {
   "cell_type": "code",
   "metadata": {
    "id": "JCMKsvHbrdUu",
    "colab_type": "code",
    "colab": {}
   },
   "source": [
    "# Encoding categorial data\n",
    "from sklearn.preprocessing import LabelEncoder, OneHotEncoder\n",
    "labelencoder = LabelEncoder()\n",
    "x[:,3] = labelencoder.fit_transform(x[:,3])\n",
    "\n",
    "onehotencoder = OneHotEncoder( categorical_features = [3] )\n",
    "X = onehotencoder.fit_transform(x).toarray()"
   ],
   "execution_count": 0,
   "outputs": []
  },
  {
   "cell_type": "code",
   "metadata": {
    "id": "Dkm3UJXhwpik",
    "colab_type": "code",
    "colab": {}
   },
   "source": [
    "# check the outpt\n",
    "print(X)\n",
    "X = X[:,1:]"
   ],
   "execution_count": 0,
   "outputs": []
  },
  {
   "cell_type": "code",
   "metadata": {
    "id": "jbceX2ihrgPK",
    "colab_type": "code",
    "colab": {}
   },
   "source": [
    "# Split the dataset into Training set and Test set\n",
    "from sklearn.model_selection import train_test_split\n",
    "X_train, Y_test, y_train, x_test = train_test_split(X,y, test_size=0.2, random_state =0 )"
   ],
   "execution_count": 0,
   "outputs": []
  },
  {
   "cell_type": "code",
   "metadata": {
    "id": "T0F6-sCCuVl-",
    "colab_type": "code",
    "colab": {}
   },
   "source": [
    "\n",
    "# Fiiting Mupltiple Linear Regresion to the Training data\n",
    "from sklearn.linear_model import LinearRegression\n",
    "regressor = LinearRegression()\n",
    "regressor.fit(X_train, y_train)"
   ],
   "execution_count": 0,
   "outputs": []
  },
  {
   "cell_type": "code",
   "metadata": {
    "id": "cFtNRRDMrlqQ",
    "colab_type": "code",
    "colab": {}
   },
   "source": [
    "# Predicting the Test set results\n",
    "y_pred = regressor.predict(x_test)\n",
    "y_pred\n"
   ],
   "execution_count": 0,
   "outputs": []
  },
  {
   "cell_type": "markdown",
   "metadata": {
    "id": "Yja22ZAwweel",
    "colab_type": "text"
   },
   "source": [
    "## Calculating the Coeffieents and Interceptps"
   ]
  },
  {
   "cell_type": "code",
   "metadata": {
    "id": "Zxt1AWWDn5H4",
    "colab_type": "code",
    "colab": {}
   },
   "source": [
    "# Calculating the coeffieents\n",
    "print(regressor.coef_)\n",
    "\n",
    "## Calculating the interceptps\n",
    "print(regressor.intercepts_ )\n"
   ],
   "execution_count": 0,
   "outputs": []
  },
  {
   "cell_type": "markdown",
   "metadata": {
    "id": "JkuSD7IcvqID",
    "colab_type": "text"
   },
   "source": [
    "## Evalutating the model"
   ]
  },
  {
   "cell_type": "code",
   "metadata": {
    "id": "4QYxctZwrojA",
    "colab_type": "code",
    "colab": {}
   },
   "source": [
    "\n",
    "## Calculating the R squared values\n",
    "from sklearn.metrics import r2_score\n",
    "r2_score(Y_test, y_pred)\n",
    "\n",
    "# NOTE: R squaredvalue of 0.91 proves the model good\n"
   ],
   "execution_count": 0,
   "outputs": []
  }
 ]
}